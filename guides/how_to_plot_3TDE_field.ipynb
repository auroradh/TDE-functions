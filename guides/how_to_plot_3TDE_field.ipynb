{
 "cells": [
  {
   "cell_type": "code",
   "execution_count": null,
   "metadata": {},
   "outputs": [],
   "source": [
    "import numpy as np\n",
    "import xarray as xr\n",
    "import matplotlib as mpl\n",
    "import matplotlib.pyplot as plt\n",
    "from pathlib import Path\n",
    "import velocity_estimation.two_dim_velocity_estimates as tdve\n",
    "import velocity_estimation.utils as u\n",
    "import velocity_estimation.time_delay_estimation as td\n",
    "from fppanalysis.running_moments import window_radius, run_norm_ds, run_mean_ds\n",
    "import cosmoplots\n",
    "import tde_functions"
   ]
  },
  {
   "cell_type": "markdown",
   "metadata": {},
   "source": [
    "#### Open dataset"
   ]
  },
  {
   "cell_type": "code",
   "execution_count": null,
   "metadata": {},
   "outputs": [],
   "source": [
    "shot = 1111208034\n",
    "ds = xr.open_dataset(\"Path to your apd data\")"
   ]
  },
  {
   "cell_type": "markdown",
   "metadata": {},
   "source": [
    "#### Extract dead pixels from mds tree"
   ]
  },
  {
   "cell_type": "code",
   "execution_count": null,
   "metadata": {},
   "outputs": [],
   "source": [
    "dead_pix_arr = tde_functions.dead_pixel_finder(shot, dead_pixel_path=\"Path to your dead pixel file\")"
   ]
  },
  {
   "cell_type": "markdown",
   "metadata": {},
   "source": [
    "#### Remove dead pixels"
   ]
  },
  {
   "cell_type": "code",
   "execution_count": null,
   "metadata": {},
   "outputs": [],
   "source": [
    "path_dead_pixel = Path('Path to dead pixels')\n",
    "dead_pix = np.load(\n",
    "    str(path_dead_pixel)\n",
    "    + \"/\"\n",
    "    + f\"dead_pixels_shot_{shot}.npz\"\n",
    ")\n",
    "dead_pix_arr = dead_pix['dead_pix_arr'] # Don't flip array, quiver plot is oriented this way\n",
    "dead_pix_arr_ds = dead_pix_arr[::-1,:] # Flip array to match ds['frames'] orientation\n",
    "for y in range(dead_pix_arr_ds.shape[0]):\n",
    "    for x in range(dead_pix_arr_ds.shape[1]):\n",
    "        if dead_pix_arr_ds[9-y, x]:\n",
    "            ds['frames'].loc[dict(y=y, x=x)] = np.nan"
   ]
  },
  {
   "cell_type": "markdown",
   "metadata": {},
   "source": [
    "#### For a given start and end time, slice the dataset"
   ]
  },
  {
   "cell_type": "code",
   "execution_count": null,
   "metadata": {},
   "outputs": [],
   "source": [
    "t_start = 0\n",
    "t_end = 0\n",
    "sliced_ds = ds.sel(time=slice(t_start, t_end))"
   ]
  },
  {
   "cell_type": "markdown",
   "metadata": {},
   "source": [
    "#### Detrend data"
   ]
  },
  {
   "cell_type": "code",
   "execution_count": null,
   "metadata": {},
   "outputs": [],
   "source": [
    "cut_off_freq = 1e3\n",
    "radius = window_radius(cut_off_freq, sliced_ds.time)\n",
    "ds = run_norm_ds(sliced_ds, radius)\n",
    "ds = run_mean_ds(ds, 3)"
   ]
  },
  {
   "cell_type": "markdown",
   "metadata": {},
   "source": [
    "#### Extract LCFS and limiter positions from mds tree"
   ]
  },
  {
   "cell_type": "code",
   "execution_count": null,
   "metadata": {},
   "outputs": [],
   "source": [
    "R_LCFS_mean, R_LCFS_min, R_LCFS_max, Z_LCFS, R_limiter, Z_limiter = tde_functions.LCFS_limiter_positions(\n",
    "    shot, \n",
    "    t_start, \n",
    "    t_end, \n",
    "    num_time_steps=50, \n",
    "    foldername=None\n",
    ")"
   ]
  },
  {
   "cell_type": "markdown",
   "metadata": {},
   "source": [
    "#### Estimation options for velocity estimation"
   ]
  },
  {
   "cell_type": "code",
   "execution_count": null,
   "metadata": {},
   "outputs": [],
   "source": [
    "eo = tdve.EstimationOptions()\n",
    "eo.use_3point_method = True\n",
    "eo.cc_options.running_mean = True\n",
    "eo.cc_options.minimum_cc_value = 0\n",
    "eo.neighbour_options = tdve.NeighbourOptions(ccf_min_lag=0, max_separation=1, min_separation=1)"
   ]
  },
  {
   "cell_type": "markdown",
   "metadata": {},
   "source": [
    "#### Generate velocities"
   ]
  },
  {
   "cell_type": "code",
   "execution_count": null,
   "metadata": {},
   "outputs": [],
   "source": [
    "movie_data = tdve.estimate_velocity_field(u.CModImagingDataInterface(ds), eo)\n",
    "vx = movie_data.get_vx()\n",
    "vy = movie_data.get_vy()\n",
    "confidences = movie_data.get_confidences()\n",
    "R = movie_data.get_R()\n",
    "Z = movie_data.get_Z()"
   ]
  },
  {
   "cell_type": "markdown",
   "metadata": {},
   "source": [
    "#### Plot velocity field"
   ]
  },
  {
   "cell_type": "code",
   "execution_count": null,
   "metadata": {},
   "outputs": [],
   "source": [
    "axes_size = cosmoplots.set_rcparams_dynamo(plt.rcParams, num_cols=1, ls=\"thin\")\n",
    "plt.rcParams[\"mathtext.fontset\"] = \"custom\"\n",
    "\n",
    "fig = plt.figure()\n",
    "ax = fig.add_axes(axes_size)\n",
    "\n",
    "# Mark dead and alive pixels\n",
    "true_indices = np.where(dead_pix_arr)\n",
    "false_indices = np.where(dead_pix_arr == False)\n",
    "dead_pixels_R = R[true_indices]\n",
    "dead_pixles_Z = Z[true_indices]\n",
    "alive_pixels_R = R[false_indices]\n",
    "alive_pixels_Z = Z[false_indices]\n",
    "\n",
    "# Define the default vmin and vmax values\n",
    "norm = mpl.colors.Normalize(vmin=0, vmax=1)\n",
    "\n",
    "# Plot dead and alive pixels\n",
    "ax.scatter(dead_pixels_R, dead_pixles_Z, marker='x', color='midnightblue', s=1, linewidth=0.5)\n",
    "ax.scatter(alive_pixels_R, alive_pixels_Z, marker=\".\", color='midnightblue', s=0.5)\n",
    "\n",
    "# Plot LCFS and limiter\n",
    "ax.plot(R_LCFS_mean, Z_LCFS, color=\"black\", linestyle=\":\", linewidth=0.5)\n",
    "ax.plot(R_limiter, Z_limiter, color=\"black\", linestyle=\":\", linewidth=0.5)\n",
    "ax.fill_betweenx(\n",
    "    Z_LCFS.ravel(),\n",
    "    R_LCFS_min.ravel(),\n",
    "    R_LCFS_max.ravel(),\n",
    "    alpha=0.2,\n",
    "    color=\"lightsteelblue\",\n",
    ")\n",
    "\n",
    "# Plot the velocity field\n",
    "qiv = ax.quiver(\n",
    "    R,\n",
    "    Z,\n",
    "    vx,\n",
    "    vy,\n",
    "    confidences,\n",
    "    scale=210000,\n",
    "    scale_units=\"xy\",\n",
    "    angles=\"xy\",\n",
    "    norm=norm,\n",
    ")\n",
    "\n",
    "# Plot arrows representing magnitude\n",
    "qk = ax.quiverkey(\n",
    "    qiv, 0.63, 1.025, 100000, r\"$1000$ m/s\", labelpos=\"E\", coordinates=\"axes\", fontproperties={'size':6}, labelsep=0.02\n",
    ")\n",
    "qk = ax.quiverkey(\n",
    "    qiv, 0.2, 1.025, 50000, r\"$500$ m/s\", labelpos=\"E\", coordinates=\"axes\", fontproperties={'size':6}, labelsep=0.02\n",
    ")\n",
    "\n",
    "# Plot colorbar\n",
    "cbar = fig.colorbar(qiv, format=\"%.1f\")\n",
    "cbar.ax.set_ylabel(r\"max $\\widehat{R}_{\\widetilde{{\\Phi}}}$\", rotation=270, labelpad=13)\n",
    "\n",
    "ax.set_xlabel(r\"$R$ / cm\")\n",
    "ax.set_ylabel(r\"$Z$ / cm\")\n",
    "ax.set_aspect(\"equal\")\n",
    "ax.set_ylim(min(Z[:,0]) - 0.5, max(Z[:,0] + 0.5))\n",
    "ax.set_xlim([min(R[0]) - 0.5, max(R[0]) + 0.5])\n",
    "plt.xticks(np.arange(round(min(R[0])), round(max(R[0]))+1, 1))\n",
    "plt.yticks(np.arange(round(min(Z[:,0])), round(max(Z[:,0]))+1, 1))\n",
    "ax.set_title(rf\"Shot {shot} -- {title}\" , fontsize=6,  x=0.5, y=1.05)\n",
    "plt.suptitle(r'time = 'f'{t_start} - {t_end} s', fontsize=4, horizontalalignment='center', x=0.59, y=1.01)"
   ]
  }
 ],
 "metadata": {
  "kernelspec": {
   "display_name": "fpp",
   "language": "python",
   "name": "python3"
  },
  "language_info": {
   "codemirror_mode": {
    "name": "ipython",
    "version": 3
   },
   "file_extension": ".py",
   "mimetype": "text/x-python",
   "name": "python",
   "nbconvert_exporter": "python",
   "pygments_lexer": "ipython3",
   "version": "3.10.13"
  }
 },
 "nbformat": 4,
 "nbformat_minor": 2
}
