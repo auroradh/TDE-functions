{
 "cells": [
  {
   "cell_type": "code",
   "execution_count": 1,
   "metadata": {},
   "outputs": [
    {
     "name": "stdout",
     "output_type": "stream",
     "text": [
      "Intel MKL WARNING: Support of Intel(R) Streaming SIMD Extensions 4.2 (Intel(R) SSE4.2) enabled only processors has been deprecated. Intel oneAPI Math Kernel Library 2025.0 will require Intel(R) Advanced Vector Extensions (Intel(R) AVX) instructions.\n",
      "Intel MKL WARNING: Support of Intel(R) Streaming SIMD Extensions 4.2 (Intel(R) SSE4.2) enabled only processors has been deprecated. Intel oneAPI Math Kernel Library 2025.0 will require Intel(R) Advanced Vector Extensions (Intel(R) AVX) instructions.\n"
     ]
    },
    {
     "ename": "ModuleNotFoundError",
     "evalue": "No module named 'tde_functions'",
     "output_type": "error",
     "traceback": [
      "\u001b[0;31m---------------------------------------------------------------------------\u001b[0m",
      "\u001b[0;31mModuleNotFoundError\u001b[0m                       Traceback (most recent call last)",
      "\u001b[1;32m/Users/ahe104/git/TDE-functions/guides/how_to_plot_3TDE_field.ipynb Cell 1\u001b[0m line \u001b[0;36m1\n\u001b[1;32m      <a href='vscode-notebook-cell:/Users/ahe104/git/TDE-functions/guides/how_to_plot_3TDE_field.ipynb#W0sZmlsZQ%3D%3D?line=8'>9</a>\u001b[0m \u001b[39mfrom\u001b[39;00m \u001b[39mfppanalysis\u001b[39;00m\u001b[39m.\u001b[39;00m\u001b[39mrunning_moments\u001b[39;00m \u001b[39mimport\u001b[39;00m window_radius, run_norm_ds, run_mean_ds\n\u001b[1;32m     <a href='vscode-notebook-cell:/Users/ahe104/git/TDE-functions/guides/how_to_plot_3TDE_field.ipynb#W0sZmlsZQ%3D%3D?line=9'>10</a>\u001b[0m \u001b[39mimport\u001b[39;00m \u001b[39mcosmoplots\u001b[39;00m\n\u001b[0;32m---> <a href='vscode-notebook-cell:/Users/ahe104/git/TDE-functions/guides/how_to_plot_3TDE_field.ipynb#W0sZmlsZQ%3D%3D?line=10'>11</a>\u001b[0m \u001b[39mimport\u001b[39;00m \u001b[39mtde_functions\u001b[39;00m \u001b[39mas\u001b[39;00m \u001b[39mtde_funcs\u001b[39;00m\n",
      "\u001b[0;31mModuleNotFoundError\u001b[0m: No module named 'tde_functions'"
     ]
    }
   ],
   "source": [
    "import numpy as np\n",
    "import xarray as xr\n",
    "import matplotlib as mpl\n",
    "import matplotlib.pyplot as plt\n",
    "from pathlib import Path\n",
    "import velocity_estimation.two_dim_velocity_estimates as tdve\n",
    "import velocity_estimation.utils as u\n",
    "import velocity_estimation.time_delay_estimation as td\n",
    "from fppanalysis.running_moments import window_radius, run_norm_ds, run_mean_ds\n",
    "import cosmoplots\n",
    "import tde_functions.plot_velocity_estimation as plot_velocity_estimation"
   ]
  },
  {
   "cell_type": "markdown",
   "metadata": {},
   "source": [
    "#### Open dataset"
   ]
  },
  {
   "cell_type": "code",
   "execution_count": null,
   "metadata": {},
   "outputs": [],
   "source": [
    "shot = 1111208034\n",
    "ds = xr.open_dataset(\"Path to your apd data\")"
   ]
  },
  {
   "cell_type": "markdown",
   "metadata": {},
   "source": [
    "#### Remove dead pixels"
   ]
  },
  {
   "cell_type": "code",
   "execution_count": null,
   "metadata": {},
   "outputs": [],
   "source": [
    "path_dead_pixel = Path('Path to dead pixels')\n",
    "dead_pix = np.load(\n",
    "    str(path_dead_pixel)\n",
    "    + \"/\"\n",
    "    + f\"dead_pixels_shot_{shot}.npz\"\n",
    ")\n",
    "dead_pix_arr = dead_pix['dead_pix_arr'] # Don't flip array, quiver plot is oriented this way\n",
    "dead_pix_arr_ds = dead_pix_arr[::-1,:] # Flip array to match ds['frames'] orientation\n",
    "for y in range(dead_pix_arr_ds.shape[0]):\n",
    "    for x in range(dead_pix_arr_ds.shape[1]):\n",
    "        if dead_pix_arr_ds[9-y, x]:\n",
    "            ds['frames'].loc[dict(y=y, x=x)] = np.nan"
   ]
  },
  {
   "cell_type": "markdown",
   "metadata": {},
   "source": [
    "#### For a given start and end time, slice the dataset"
   ]
  },
  {
   "cell_type": "code",
   "execution_count": null,
   "metadata": {},
   "outputs": [],
   "source": [
    "t_start = 0\n",
    "t_end = 0\n",
    "sliced_ds = ds.sel(time=slice(t_start, t_end))"
   ]
  },
  {
   "cell_type": "markdown",
   "metadata": {},
   "source": [
    "#### Detrend data"
   ]
  },
  {
   "cell_type": "code",
   "execution_count": null,
   "metadata": {},
   "outputs": [],
   "source": [
    "cut_off_freq = 1e3\n",
    "radius = window_radius(cut_off_freq, sliced_ds.time)\n",
    "ds = run_norm_ds(sliced_ds, radius)\n",
    "ds = run_mean_ds(ds, 3)"
   ]
  },
  {
   "cell_type": "markdown",
   "metadata": {},
   "source": [
    "#### Estimation options for velocity estimation"
   ]
  },
  {
   "cell_type": "code",
   "execution_count": null,
   "metadata": {},
   "outputs": [],
   "source": [
    "eo = tdve.EstimationOptions()\n",
    "eo.use_3point_method = True\n",
    "eo.cc_options.running_mean = True\n",
    "eo.cc_options.minimum_cc_value = 0\n",
    "eo.neighbour_options = tdve.NeighbourOptions(ccf_min_lag=0, max_separation=1, min_separation=1)"
   ]
  },
  {
   "cell_type": "markdown",
   "metadata": {},
   "source": [
    "#### Generate velocities"
   ]
  },
  {
   "cell_type": "code",
   "execution_count": null,
   "metadata": {},
   "outputs": [],
   "source": [
    "movie_data = tdve.estimate_velocity_field(u.CModImagingDataInterface(ds), eo)\n",
    "vx = movie_data.get_vx()\n",
    "vy = movie_data.get_vy()\n",
    "confidences = movie_data.get_confidences()\n",
    "R = movie_data.get_R()\n",
    "Z = movie_data.get_Z()"
   ]
  },
  {
   "cell_type": "markdown",
   "metadata": {},
   "source": [
    "#### Plot velocity field"
   ]
  },
  {
   "cell_type": "code",
   "execution_count": null,
   "metadata": {},
   "outputs": [],
   "source": [
    "plot_velocity_estimation(\n",
    "    shot, # At this point, shot is only used for the title\n",
    "    t_start, \n",
    "    t_end, \n",
    "    movie_data, \n",
    "    dead_pix_arr, \n",
    "    LCFS_limiter_foldername,\n",
    "    title=None,\n",
    ")"
   ]
  }
 ],
 "metadata": {
  "kernelspec": {
   "display_name": "fpp",
   "language": "python",
   "name": "python3"
  },
  "language_info": {
   "codemirror_mode": {
    "name": "ipython",
    "version": 3
   },
   "file_extension": ".py",
   "mimetype": "text/x-python",
   "name": "python",
   "nbconvert_exporter": "python",
   "pygments_lexer": "ipython3",
   "version": "3.10.13"
  }
 },
 "nbformat": 4,
 "nbformat_minor": 2
}
