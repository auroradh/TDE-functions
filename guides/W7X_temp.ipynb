{
 "cells": [
  {
   "cell_type": "code",
   "execution_count": null,
   "metadata": {},
   "outputs": [],
   "source": [
    "import numpy as np\n",
    "import xarray as xr\n",
    "import matplotlib as mpl\n",
    "import matplotlib.pyplot as plt\n",
    "from pathlib import Path\n",
    "import velocity_estimation.two_dim_velocity_estimates as tdve\n",
    "import velocity_estimation.utils as u\n",
    "import velocity_estimation.time_delay_estimation as td\n",
    "from fppanalysis.running_moments import window_radius, run_norm_ds, run_mean_ds\n",
    "import cosmoplots\n",
    "import tde_functions\n",
    "from w7x_array import "
   ]
  },
  {
   "cell_type": "markdown",
   "metadata": {},
   "source": [
    "#### Create xarray dataset from hdf5 file"
   ]
  },
  {
   "cell_type": "code",
   "execution_count": null,
   "metadata": {},
   "outputs": [],
   "source": [
    "shot = 230323039\n",
    "\n",
    "filename = '/Users/ahe104/Box/W7X_data/W7X_gpi_h5_files/'+str(shot).strip()+'.h5'\n",
    "rad_pol_filename = np.load('/Users/ahe104/Box/W7X_data/rz_arrays/rz_arrs.npz')\n",
    "\n",
    "z_arr, r_arr, pol_arr, rad_arr = rad_pol_positions(rad_pol_filename)\n",
    "r_z_coord = False\n",
    "if r_z_coord:\n",
    "    ds = create_xarray_from_hdf5(filename, r_arr, z_arr)\n",
    "else:\n",
    "    ds = create_xarray_from_hdf5(filename, rad_arr, pol_arr)"
   ]
  },
  {
   "cell_type": "markdown",
   "metadata": {},
   "source": [
    "#### Slice dataset"
   ]
  },
  {
   "cell_type": "code",
   "execution_count": null,
   "metadata": {},
   "outputs": [],
   "source": [
    "t_start = 7.1\n",
    "t_end = 7.15\n",
    "sliced_ds = ds.sel(time=slice(t_start, t_end))\n",
    "frames = sliced_ds['frames']"
   ]
  },
  {
   "cell_type": "markdown",
   "metadata": {},
   "source": [
    "#### Detrend data"
   ]
  },
  {
   "cell_type": "code",
   "execution_count": null,
   "metadata": {},
   "outputs": [],
   "source": [
    "cut_off_freq = 1e3\n",
    "#cut_off_freq = 5e3\n",
    "radius = window_radius(cut_off_freq, ds.time.values)\n",
    "ds = run_norm_ds(sliced_ds, radius=radius)"
   ]
  },
  {
   "cell_type": "markdown",
   "metadata": {},
   "source": [
    "#### Estimation options for velocity estimation"
   ]
  },
  {
   "cell_type": "code",
   "execution_count": null,
   "metadata": {},
   "outputs": [],
   "source": [
    "eo = tdve.EstimationOptions()\n",
    "eo.use_3point_method = True\n",
    "eo.cc_options.running_mean = True\n",
    "eo.cc_options.minimum_cc_value = 0\n",
    "eo.neighbour_options = tdve.NeighbourOptions(ccf_min_lag=0, max_separation=1, min_separation=1)"
   ]
  },
  {
   "cell_type": "markdown",
   "metadata": {},
   "source": [
    "#### Generate velocities"
   ]
  },
  {
   "cell_type": "code",
   "execution_count": null,
   "metadata": {},
   "outputs": [],
   "source": [
    "movie_data = tdve.estimate_velocity_field(u.CModImagingDataInterface(ds), eo)\n",
    "vx = movie_data.get_vx()\n",
    "vy = movie_data.get_vy()\n",
    "confidences = movie_data.get_confidences()\n",
    "R = movie_data.get_R()\n",
    "Z = movie_data.get_Z()"
   ]
  },
  {
   "cell_type": "markdown",
   "metadata": {},
   "source": [
    "#### Plot velocity field"
   ]
  },
  {
   "cell_type": "code",
   "execution_count": null,
   "metadata": {},
   "outputs": [],
   "source": [
    "axes_size = cosmoplots.set_rcparams_dynamo(plt.rcParams, num_cols=1, ls=\"thin\")\n",
    "plt.rcParams[\"mathtext.fontset\"] = \"custom\"\n",
    "\n",
    "fig = plt.figure()\n",
    "ax = fig.add_axes(axes_size)\n",
    "\n",
    "ax.scatter(R, Z, marker=\".\", color='midnightblue', s=0.5)\n",
    "\n",
    "default_vmin = 0\n",
    "default_vmax = 1\n",
    "norm = mpl.colors.Normalize(vmin=default_vmin, vmax=default_vmax)\n",
    "\n",
    "qiv = ax.quiver(\n",
    "    R,\n",
    "    Z,\n",
    "    vx,\n",
    "    vy,\n",
    "    confidences,\n",
    "    scale=300000,\n",
    "    scale_units=\"xy\",\n",
    "    angles=\"xy\",\n",
    "    norm=norm,\n",
    "    width=0.01\n",
    ")\n",
    "\n",
    "qk = ax.quiverkey(\n",
    "    qiv, 0.5, 0.06, 300000, r\"$3000$ m/s\", labelpos=\"E\", coordinates=\"axes\"\n",
    ")\n",
    "qk = ax.quiverkey(\n",
    "    qiv, 0.5, 0.12, 200000, r\"$2000$ m/s\", labelpos=\"E\", coordinates=\"axes\"\n",
    ")\n",
    "qk = ax.quiverkey(\n",
    "    qiv, 0.5, 0.18, 100000, r\"$1000$ m/s\", labelpos=\"E\", coordinates=\"axes\"\n",
    ")\n",
    "\n",
    "cbar = fig.colorbar(qiv, format=\"%.1f\")\n",
    "cbar.ax.set_ylabel(r\"max $\\hat{R}_{\\tilde{{\\Phi}}}$\", rotation=270, labelpad=13)\n",
    "if r_z_coord:\n",
    "    ax.set_xlabel(r\"$R$ / cm\")\n",
    "    ax.set_ylabel(r\"$Z$ / cm\")\n",
    "else:\n",
    "    ax.set_xlabel(r\"$R - R (15.0)$ / cm\")\n",
    "    ax.set_ylabel(r\"$Z - Z (15.0)$ / cm\") \n",
    "ax.set_aspect(\"equal\")\n",
    "\n",
    "if use_2d_estimation:\n",
    "    if r_z_coord:\n",
    "        ax.set_ylim(min(Z[:,0]) - 1.95, max(Z[:,0] + 0.6))\n",
    "        ax.set_xlim([min(R[0]) - 3, max(R[0]) + 0.5])\n",
    "        plt.xticks(np.arange(round(min(R[0])-2), round(max(R[0]))+1, 2))\n",
    "    else:\n",
    "        ax.set_ylim(min(Z[:,0]) - 0.5, max(Z[:,0] + 0.5))\n",
    "        ax.set_xlim([min(R[0]) - 0.5, max(R[0]) + 0.5])\n",
    "        plt.xticks(np.arange(round(min(R[0])), round(max(R[0]))+1, 1))\n",
    "else:\n",
    "    if r_z_coord:\n",
    "        ax.set_ylim(min(Z[:,0]) - 2, max(Z[:,0] + 1))\n",
    "        ax.set_xlim([min(R[0]) - 1, max(R[0]) + 1])\n",
    "        plt.xticks(np.arange(round(min(R[0])-2), round(max(R[0]))+1, 2))\n",
    "    else:\n",
    "        ax.set_ylim(min(Z[:,0]) - 3, max(Z[:,0] + 3))\n",
    "        ax.set_xlim([min(R[0]) - 3, max(R[0]) + 3])\n",
    "        plt.xticks(np.arange(round(min(R[0])-2), round(max(R[0]))+3, 2))\n",
    "# plt.yticks(np.arange(round(min(Z_coordinates[0])-3), round(max(R_coordinates[0]))+3, 1))\n",
    "# ax.set_xlim([min(R) - 0.5, max(R) + 0.5])\n",
    "# ax.set_ylim([min(Z) - 0.5, max(Z) + 0.5])\n",
    "\n",
    "title_prefix = f\"2 point\" if not use_2d_estimation else f\"3 point\"\n",
    "title =  rf\"Shot {shot} \" \"\\n\"  f\"{title_prefix}\"\n",
    "ax.set_title(title, size=8)"
   ]
  }
 ],
 "metadata": {
  "language_info": {
   "name": "python"
  }
 },
 "nbformat": 4,
 "nbformat_minor": 2
}
